{
 "cells": [
  {
   "cell_type": "markdown",
   "metadata": {},
   "source": [
    "# Imports"
   ]
  },
  {
   "cell_type": "code",
   "execution_count": 51,
   "metadata": {},
   "outputs": [],
   "source": [
    "import numpy as np\n",
    "import pandas as pd\n",
    "import matplotlib.pyplot as plt\n",
    "import pixiedust\n",
    "from sklearn.model_selection import train_test_split\n",
    "from sklearn.linear_model import LinearRegression\n",
    "from sklearn.metrics import confusion_matrix as cm\n",
    "import statsmodels.formula.api as sm #for backward elimination"
   ]
  },
  {
   "cell_type": "markdown",
   "metadata": {},
   "source": [
    "# Data"
   ]
  },
  {
   "cell_type": "code",
   "execution_count": 52,
   "metadata": {},
   "outputs": [],
   "source": [
    "daily = pd.read_csv('Bike-Sharing/day.csv')\n",
    "hourly = pd.read_csv('Bike-Sharing/hour.csv')"
   ]
  },
  {
   "cell_type": "code",
   "execution_count": 53,
   "metadata": {},
   "outputs": [
    {
     "data": {
      "text/html": [
       "<div>\n",
       "<style scoped>\n",
       "    .dataframe tbody tr th:only-of-type {\n",
       "        vertical-align: middle;\n",
       "    }\n",
       "\n",
       "    .dataframe tbody tr th {\n",
       "        vertical-align: top;\n",
       "    }\n",
       "\n",
       "    .dataframe thead th {\n",
       "        text-align: right;\n",
       "    }\n",
       "</style>\n",
       "<table border=\"1\" class=\"dataframe\">\n",
       "  <thead>\n",
       "    <tr style=\"text-align: right;\">\n",
       "      <th></th>\n",
       "      <th>instant</th>\n",
       "      <th>dteday</th>\n",
       "      <th>season</th>\n",
       "      <th>yr</th>\n",
       "      <th>mnth</th>\n",
       "      <th>holiday</th>\n",
       "      <th>weekday</th>\n",
       "      <th>workingday</th>\n",
       "      <th>weathersit</th>\n",
       "      <th>temp</th>\n",
       "      <th>atemp</th>\n",
       "      <th>hum</th>\n",
       "      <th>windspeed</th>\n",
       "      <th>casual</th>\n",
       "      <th>registered</th>\n",
       "      <th>cnt</th>\n",
       "    </tr>\n",
       "  </thead>\n",
       "  <tbody>\n",
       "    <tr>\n",
       "      <th>0</th>\n",
       "      <td>1</td>\n",
       "      <td>2011-01-01</td>\n",
       "      <td>1</td>\n",
       "      <td>0</td>\n",
       "      <td>1</td>\n",
       "      <td>0</td>\n",
       "      <td>6</td>\n",
       "      <td>0</td>\n",
       "      <td>2</td>\n",
       "      <td>0.344167</td>\n",
       "      <td>0.363625</td>\n",
       "      <td>0.805833</td>\n",
       "      <td>0.160446</td>\n",
       "      <td>331</td>\n",
       "      <td>654</td>\n",
       "      <td>985</td>\n",
       "    </tr>\n",
       "    <tr>\n",
       "      <th>1</th>\n",
       "      <td>2</td>\n",
       "      <td>2011-01-02</td>\n",
       "      <td>1</td>\n",
       "      <td>0</td>\n",
       "      <td>1</td>\n",
       "      <td>0</td>\n",
       "      <td>0</td>\n",
       "      <td>0</td>\n",
       "      <td>2</td>\n",
       "      <td>0.363478</td>\n",
       "      <td>0.353739</td>\n",
       "      <td>0.696087</td>\n",
       "      <td>0.248539</td>\n",
       "      <td>131</td>\n",
       "      <td>670</td>\n",
       "      <td>801</td>\n",
       "    </tr>\n",
       "    <tr>\n",
       "      <th>2</th>\n",
       "      <td>3</td>\n",
       "      <td>2011-01-03</td>\n",
       "      <td>1</td>\n",
       "      <td>0</td>\n",
       "      <td>1</td>\n",
       "      <td>0</td>\n",
       "      <td>1</td>\n",
       "      <td>1</td>\n",
       "      <td>1</td>\n",
       "      <td>0.196364</td>\n",
       "      <td>0.189405</td>\n",
       "      <td>0.437273</td>\n",
       "      <td>0.248309</td>\n",
       "      <td>120</td>\n",
       "      <td>1229</td>\n",
       "      <td>1349</td>\n",
       "    </tr>\n",
       "    <tr>\n",
       "      <th>3</th>\n",
       "      <td>4</td>\n",
       "      <td>2011-01-04</td>\n",
       "      <td>1</td>\n",
       "      <td>0</td>\n",
       "      <td>1</td>\n",
       "      <td>0</td>\n",
       "      <td>2</td>\n",
       "      <td>1</td>\n",
       "      <td>1</td>\n",
       "      <td>0.200000</td>\n",
       "      <td>0.212122</td>\n",
       "      <td>0.590435</td>\n",
       "      <td>0.160296</td>\n",
       "      <td>108</td>\n",
       "      <td>1454</td>\n",
       "      <td>1562</td>\n",
       "    </tr>\n",
       "    <tr>\n",
       "      <th>4</th>\n",
       "      <td>5</td>\n",
       "      <td>2011-01-05</td>\n",
       "      <td>1</td>\n",
       "      <td>0</td>\n",
       "      <td>1</td>\n",
       "      <td>0</td>\n",
       "      <td>3</td>\n",
       "      <td>1</td>\n",
       "      <td>1</td>\n",
       "      <td>0.226957</td>\n",
       "      <td>0.229270</td>\n",
       "      <td>0.436957</td>\n",
       "      <td>0.186900</td>\n",
       "      <td>82</td>\n",
       "      <td>1518</td>\n",
       "      <td>1600</td>\n",
       "    </tr>\n",
       "  </tbody>\n",
       "</table>\n",
       "</div>"
      ],
      "text/plain": [
       "   instant      dteday  season  yr  mnth  holiday  weekday  workingday  \\\n",
       "0        1  2011-01-01       1   0     1        0        6           0   \n",
       "1        2  2011-01-02       1   0     1        0        0           0   \n",
       "2        3  2011-01-03       1   0     1        0        1           1   \n",
       "3        4  2011-01-04       1   0     1        0        2           1   \n",
       "4        5  2011-01-05       1   0     1        0        3           1   \n",
       "\n",
       "   weathersit      temp     atemp       hum  windspeed  casual  registered  \\\n",
       "0           2  0.344167  0.363625  0.805833   0.160446     331         654   \n",
       "1           2  0.363478  0.353739  0.696087   0.248539     131         670   \n",
       "2           1  0.196364  0.189405  0.437273   0.248309     120        1229   \n",
       "3           1  0.200000  0.212122  0.590435   0.160296     108        1454   \n",
       "4           1  0.226957  0.229270  0.436957   0.186900      82        1518   \n",
       "\n",
       "    cnt  \n",
       "0   985  \n",
       "1   801  \n",
       "2  1349  \n",
       "3  1562  \n",
       "4  1600  "
      ]
     },
     "execution_count": 53,
     "metadata": {},
     "output_type": "execute_result"
    }
   ],
   "source": [
    "daily.head()"
   ]
  },
  {
   "cell_type": "code",
   "execution_count": 54,
   "metadata": {},
   "outputs": [
    {
     "data": {
      "text/plain": [
       "Index(['instant', 'dteday', 'season', 'yr', 'mnth', 'holiday', 'weekday',\n",
       "       'workingday', 'weathersit', 'temp', 'atemp', 'hum', 'windspeed',\n",
       "       'casual', 'registered', 'cnt'],\n",
       "      dtype='object')"
      ]
     },
     "execution_count": 54,
     "metadata": {},
     "output_type": "execute_result"
    }
   ],
   "source": [
    "daily.columns"
   ]
  },
  {
   "cell_type": "code",
   "execution_count": 55,
   "metadata": {},
   "outputs": [
    {
     "name": "stdout",
     "output_type": "stream",
     "text": [
      "<class 'pandas.core.frame.DataFrame'>\n",
      "RangeIndex: 731 entries, 0 to 730\n",
      "Data columns (total 16 columns):\n",
      "instant       731 non-null int64\n",
      "dteday        731 non-null object\n",
      "season        731 non-null int64\n",
      "yr            731 non-null int64\n",
      "mnth          731 non-null int64\n",
      "holiday       731 non-null int64\n",
      "weekday       731 non-null int64\n",
      "workingday    731 non-null int64\n",
      "weathersit    731 non-null int64\n",
      "temp          731 non-null float64\n",
      "atemp         731 non-null float64\n",
      "hum           731 non-null float64\n",
      "windspeed     731 non-null float64\n",
      "casual        731 non-null int64\n",
      "registered    731 non-null int64\n",
      "cnt           731 non-null int64\n",
      "dtypes: float64(4), int64(11), object(1)\n",
      "memory usage: 91.5+ KB\n"
     ]
    }
   ],
   "source": [
    "daily.info()"
   ]
  },
  {
   "cell_type": "code",
   "execution_count": 56,
   "metadata": {},
   "outputs": [],
   "source": [
    "# There are no empty cells in 'daily'\n",
    "# daily.isna().sum()"
   ]
  },
  {
   "cell_type": "code",
   "execution_count": 57,
   "metadata": {
    "pixiedust": {
     "displayParams": {
      "handlerId": "scatterPlot",
      "keyFields": "atemp",
      "valueFields": "cnt"
     }
    },
    "scrolled": false
   },
   "outputs": [
    {
     "data": {
      "text/html": [
       "<style type=\"text/css\">.pd_warning{display:none;}</style><div class=\"pd_warning\"><em>Hey, there's something awesome here! To see it, open this notebook outside GitHub, in a viewer like Jupyter</em></div>\n",
       "        <div class=\"pd_save is-viewer-good\" style=\"padding-right:10px;text-align: center;line-height:initial !important;font-size: xx-large;font-weight: 500;color: coral;\">\n",
       "            \n",
       "        </div>\n",
       "    <div id=\"chartFigure44ca6078\" class=\"pd_save is-viewer-good\" style=\"overflow-x:auto\">\n",
       "            \n",
       "                    \n",
       "                            <center><img style=\"max-width:initial !important\" src=\"data:image/png;base64,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\" class=\"pd_save\"></center>\n",
       "                        \n",
       "                    \n",
       "                \n",
       "        </div>"
      ],
      "text/plain": [
       "<IPython.core.display.HTML object>"
      ]
     },
     "metadata": {},
     "output_type": "display_data"
    }
   ],
   "source": [
    "# When running on 'Python with Pixiedust' kernel, can open interactive:\n",
    "display(daily)\n",
    "# Definitely seems to be a positive linear correlation between daily temperature (or atemp) and rental count\n",
    "# Similar, weaker relationship seems plausible with season.\n"
   ]
  },
  {
   "cell_type": "code",
   "execution_count": 58,
   "metadata": {},
   "outputs": [
    {
     "data": {
      "text/html": [
       "<div>\n",
       "<style scoped>\n",
       "    .dataframe tbody tr th:only-of-type {\n",
       "        vertical-align: middle;\n",
       "    }\n",
       "\n",
       "    .dataframe tbody tr th {\n",
       "        vertical-align: top;\n",
       "    }\n",
       "\n",
       "    .dataframe thead th {\n",
       "        text-align: right;\n",
       "    }\n",
       "</style>\n",
       "<table border=\"1\" class=\"dataframe\">\n",
       "  <thead>\n",
       "    <tr style=\"text-align: right;\">\n",
       "      <th></th>\n",
       "      <th>instant</th>\n",
       "      <th>dteday</th>\n",
       "      <th>season</th>\n",
       "      <th>yr</th>\n",
       "      <th>mnth</th>\n",
       "      <th>hr</th>\n",
       "      <th>holiday</th>\n",
       "      <th>weekday</th>\n",
       "      <th>workingday</th>\n",
       "      <th>weathersit</th>\n",
       "      <th>temp</th>\n",
       "      <th>atemp</th>\n",
       "      <th>hum</th>\n",
       "      <th>windspeed</th>\n",
       "      <th>casual</th>\n",
       "      <th>registered</th>\n",
       "      <th>cnt</th>\n",
       "    </tr>\n",
       "  </thead>\n",
       "  <tbody>\n",
       "    <tr>\n",
       "      <th>0</th>\n",
       "      <td>1</td>\n",
       "      <td>2011-01-01</td>\n",
       "      <td>1</td>\n",
       "      <td>0</td>\n",
       "      <td>1</td>\n",
       "      <td>0</td>\n",
       "      <td>0</td>\n",
       "      <td>6</td>\n",
       "      <td>0</td>\n",
       "      <td>1</td>\n",
       "      <td>0.24</td>\n",
       "      <td>0.2879</td>\n",
       "      <td>0.81</td>\n",
       "      <td>0.0</td>\n",
       "      <td>3</td>\n",
       "      <td>13</td>\n",
       "      <td>16</td>\n",
       "    </tr>\n",
       "    <tr>\n",
       "      <th>1</th>\n",
       "      <td>2</td>\n",
       "      <td>2011-01-01</td>\n",
       "      <td>1</td>\n",
       "      <td>0</td>\n",
       "      <td>1</td>\n",
       "      <td>1</td>\n",
       "      <td>0</td>\n",
       "      <td>6</td>\n",
       "      <td>0</td>\n",
       "      <td>1</td>\n",
       "      <td>0.22</td>\n",
       "      <td>0.2727</td>\n",
       "      <td>0.80</td>\n",
       "      <td>0.0</td>\n",
       "      <td>8</td>\n",
       "      <td>32</td>\n",
       "      <td>40</td>\n",
       "    </tr>\n",
       "    <tr>\n",
       "      <th>2</th>\n",
       "      <td>3</td>\n",
       "      <td>2011-01-01</td>\n",
       "      <td>1</td>\n",
       "      <td>0</td>\n",
       "      <td>1</td>\n",
       "      <td>2</td>\n",
       "      <td>0</td>\n",
       "      <td>6</td>\n",
       "      <td>0</td>\n",
       "      <td>1</td>\n",
       "      <td>0.22</td>\n",
       "      <td>0.2727</td>\n",
       "      <td>0.80</td>\n",
       "      <td>0.0</td>\n",
       "      <td>5</td>\n",
       "      <td>27</td>\n",
       "      <td>32</td>\n",
       "    </tr>\n",
       "    <tr>\n",
       "      <th>3</th>\n",
       "      <td>4</td>\n",
       "      <td>2011-01-01</td>\n",
       "      <td>1</td>\n",
       "      <td>0</td>\n",
       "      <td>1</td>\n",
       "      <td>3</td>\n",
       "      <td>0</td>\n",
       "      <td>6</td>\n",
       "      <td>0</td>\n",
       "      <td>1</td>\n",
       "      <td>0.24</td>\n",
       "      <td>0.2879</td>\n",
       "      <td>0.75</td>\n",
       "      <td>0.0</td>\n",
       "      <td>3</td>\n",
       "      <td>10</td>\n",
       "      <td>13</td>\n",
       "    </tr>\n",
       "    <tr>\n",
       "      <th>4</th>\n",
       "      <td>5</td>\n",
       "      <td>2011-01-01</td>\n",
       "      <td>1</td>\n",
       "      <td>0</td>\n",
       "      <td>1</td>\n",
       "      <td>4</td>\n",
       "      <td>0</td>\n",
       "      <td>6</td>\n",
       "      <td>0</td>\n",
       "      <td>1</td>\n",
       "      <td>0.24</td>\n",
       "      <td>0.2879</td>\n",
       "      <td>0.75</td>\n",
       "      <td>0.0</td>\n",
       "      <td>0</td>\n",
       "      <td>1</td>\n",
       "      <td>1</td>\n",
       "    </tr>\n",
       "  </tbody>\n",
       "</table>\n",
       "</div>"
      ],
      "text/plain": [
       "   instant      dteday  season  yr  mnth  hr  holiday  weekday  workingday  \\\n",
       "0        1  2011-01-01       1   0     1   0        0        6           0   \n",
       "1        2  2011-01-01       1   0     1   1        0        6           0   \n",
       "2        3  2011-01-01       1   0     1   2        0        6           0   \n",
       "3        4  2011-01-01       1   0     1   3        0        6           0   \n",
       "4        5  2011-01-01       1   0     1   4        0        6           0   \n",
       "\n",
       "   weathersit  temp   atemp   hum  windspeed  casual  registered  cnt  \n",
       "0           1  0.24  0.2879  0.81        0.0       3          13   16  \n",
       "1           1  0.22  0.2727  0.80        0.0       8          32   40  \n",
       "2           1  0.22  0.2727  0.80        0.0       5          27   32  \n",
       "3           1  0.24  0.2879  0.75        0.0       3          10   13  \n",
       "4           1  0.24  0.2879  0.75        0.0       0           1    1  "
      ]
     },
     "execution_count": 58,
     "metadata": {},
     "output_type": "execute_result"
    }
   ],
   "source": [
    "hourly.head()\n",
    "# Note that 'dteday' is formatted as yyyy-mm-dd and 'temp' is a float\n",
    "# Readme.txt defines 'temp' as normalized temperatures in Celsius (divided by the max of 41)\n",
    "# and 'atemp' as normalized temperature feeling (divided by the max of 50).\n",
    "# Also defines 'windspeed' as normalized wind speed (divided by the max of 67)."
   ]
  },
  {
   "cell_type": "code",
   "execution_count": 59,
   "metadata": {},
   "outputs": [
    {
     "data": {
      "text/plain": [
       "Index(['instant', 'dteday', 'season', 'yr', 'mnth', 'hr', 'holiday', 'weekday',\n",
       "       'workingday', 'weathersit', 'temp', 'atemp', 'hum', 'windspeed',\n",
       "       'casual', 'registered', 'cnt'],\n",
       "      dtype='object')"
      ]
     },
     "execution_count": 59,
     "metadata": {},
     "output_type": "execute_result"
    }
   ],
   "source": [
    "hourly.columns"
   ]
  },
  {
   "cell_type": "code",
   "execution_count": 60,
   "metadata": {},
   "outputs": [
    {
     "name": "stdout",
     "output_type": "stream",
     "text": [
      "<class 'pandas.core.frame.DataFrame'>\n",
      "RangeIndex: 17379 entries, 0 to 17378\n",
      "Data columns (total 17 columns):\n",
      "instant       17379 non-null int64\n",
      "dteday        17379 non-null object\n",
      "season        17379 non-null int64\n",
      "yr            17379 non-null int64\n",
      "mnth          17379 non-null int64\n",
      "hr            17379 non-null int64\n",
      "holiday       17379 non-null int64\n",
      "weekday       17379 non-null int64\n",
      "workingday    17379 non-null int64\n",
      "weathersit    17379 non-null int64\n",
      "temp          17379 non-null float64\n",
      "atemp         17379 non-null float64\n",
      "hum           17379 non-null float64\n",
      "windspeed     17379 non-null float64\n",
      "casual        17379 non-null int64\n",
      "registered    17379 non-null int64\n",
      "cnt           17379 non-null int64\n",
      "dtypes: float64(4), int64(12), object(1)\n",
      "memory usage: 2.3+ MB\n"
     ]
    }
   ],
   "source": [
    "hourly.info()\n",
    "# This dataset has additional 'hr' column, but all others match the daily dataset"
   ]
  },
  {
   "cell_type": "code",
   "execution_count": 61,
   "metadata": {},
   "outputs": [],
   "source": [
    "# There are no empty cells in 'hourly'\n",
    "# hourly.isna().sum()"
   ]
  },
  {
   "cell_type": "code",
   "execution_count": 62,
   "metadata": {
    "pixiedust": {
     "displayParams": {
      "handlerId": "scatterPlot",
      "keyFields": "hr",
      "rowCount": "200",
      "valueFields": "cnt"
     }
    },
    "slideshow": {
     "slide_type": "slide"
    }
   },
   "outputs": [
    {
     "data": {
      "text/html": [
       "<style type=\"text/css\">.pd_warning{display:none;}</style><div class=\"pd_warning\"><em>Hey, there's something awesome here! To see it, open this notebook outside GitHub, in a viewer like Jupyter</em></div>\n",
       "        <div class=\"pd_save is-viewer-good\" style=\"padding-right:10px;text-align: center;line-height:initial !important;font-size: xx-large;font-weight: 500;color: coral;\">\n",
       "            \n",
       "        </div>\n",
       "    <div id=\"chartFigure1158354b\" class=\"pd_save is-viewer-good\" style=\"overflow-x:auto\">\n",
       "            \n",
       "                    \n",
       "                            <center><img style=\"max-width:initial !important\" src=\"data:image/png;base64,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\" class=\"pd_save\"></center>\n",
       "                        \n",
       "                    \n",
       "                \n",
       "        </div>"
      ],
      "text/plain": [
       "<IPython.core.display.HTML object>"
      ]
     },
     "metadata": {},
     "output_type": "display_data"
    }
   ],
   "source": [
    "# When running on 'Python with Pixiedust' kernel:\n",
    "display(hourly)\n",
    "# Not much going on in hours 3-5am"
   ]
  },
  {
   "cell_type": "markdown",
   "metadata": {},
   "source": [
    "# A few Single Linear Regressions"
   ]
  },
  {
   "cell_type": "code",
   "execution_count": 63,
   "metadata": {},
   "outputs": [
    {
     "data": {
      "text/plain": [
       "0.38372428799794767"
      ]
     },
     "execution_count": 63,
     "metadata": {},
     "output_type": "execute_result"
    }
   ],
   "source": [
    "X_day = daily.iloc[:, 10].values\n",
    "y_day = daily.iloc[:, 15].values\n",
    "X_day_train, X_day_test, y_day_train, y_day_test = train_test_split(X_day, y_day, test_size=0.25)\n",
    "regressor = LinearRegression()\n",
    "regressor.fit(X_day_train.reshape(-1, 1), y_day_train)\n",
    "# Predicting test set results for daily dataset\n",
    "y_day_pred = regressor.predict(X_day_test.reshape(-1, 1))\n",
    "regressor.score(X_day_test.reshape(-1, 1), y_day_test)"
   ]
  },
  {
   "cell_type": "code",
   "execution_count": null,
   "metadata": {},
   "outputs": [],
   "source": []
  },
  {
   "cell_type": "markdown",
   "metadata": {},
   "source": [
    "# Building initial Multiple Linear Regressions"
   ]
  },
  {
   "cell_type": "code",
   "execution_count": 64,
   "metadata": {},
   "outputs": [],
   "source": [
    "X_day = daily.iloc[:, 2:-3].values\n",
    "y_day = daily.iloc[:, 15].values\n",
    "X_hour = hourly.iloc[:, 2:-3].values\n",
    "y_hour = hourly.iloc[:, 16].values"
   ]
  },
  {
   "cell_type": "code",
   "execution_count": 65,
   "metadata": {},
   "outputs": [],
   "source": [
    "X_day_train, X_day_test, y_day_train, y_day_test = train_test_split(X_day, y_day, test_size=0.25)"
   ]
  },
  {
   "cell_type": "code",
   "execution_count": 66,
   "metadata": {},
   "outputs": [
    {
     "data": {
      "text/plain": [
       "LinearRegression(copy_X=True, fit_intercept=True, n_jobs=1, normalize=False)"
      ]
     },
     "execution_count": 66,
     "metadata": {},
     "output_type": "execute_result"
    }
   ],
   "source": [
    "# Basic Multiple Linear on daily dataset\n",
    "regressor = LinearRegression()\n",
    "regressor.fit(X_day_train, y_day_train)"
   ]
  },
  {
   "cell_type": "code",
   "execution_count": 67,
   "metadata": {},
   "outputs": [
    {
     "name": "stdout",
     "output_type": "stream",
     "text": [
      "[ 9.33218693e+01  2.17437769e+02  2.19334852e+02  5.41314369e+02\n",
      " -2.51853928e+02 -1.66391755e+03  1.05242772e+03 -2.25292962e+02\n",
      "  8.59349983e+01 -8.51586415e+02 -5.15722229e+01  1.11429500e+03\n",
      "  6.78365495e+01  2.67516926e+01  6.76397143e+02 -1.23262857e+02\n",
      " -4.11152315e+02 -2.77701031e+02 -3.33308502e+02 -2.05757218e+02\n",
      "  9.93893015e+02 -5.72205778e+02 -1.44256639e+02  1.58248336e+02\n",
      "  1.07746482e+03  5.38143788e+02 -1.74111154e+02  1.37417405e+03\n",
      "  1.34626801e+03  3.86502169e+02  1.29259039e+03 -1.58134280e+02\n",
      " -1.01352293e+03 -1.00251060e+03  8.40300911e+02 -1.22623141e+02\n",
      " -2.12668679e+03  1.22639529e+03 -6.78991316e+01 -8.01794198e+02\n",
      " -8.55790818e+02 -5.59394325e+02 -3.79127916e+02  3.04876220e+03\n",
      " -2.10003809e+02 -1.29171703e+03  3.91525386e+01 -1.55716426e+02\n",
      "  2.51525598e+02  4.55004257e+02  1.47918187e+02  3.70491486e+01\n",
      " -5.65729516e+02  9.52301042e+01 -2.71795715e+02  3.45071862e+02\n",
      " -9.51643450e+02 -4.56728765e+02  9.29908950e+02 -5.12620807e+02\n",
      "  1.90928407e+03  1.06852708e+03  4.52646314e+02  7.99258187e+02\n",
      " -2.64713782e+03 -8.19606093e+01 -6.47386974e+01 -4.07524630e+02\n",
      "  7.01016721e+02 -4.79750426e+02  1.28941908e+03  1.80988138e+02\n",
      "  4.73842479e+02 -1.17979376e+02 -1.88208918e+03 -3.33806031e+02\n",
      "  1.59034387e+02 -1.47653054e+01  1.56902530e+02  8.74437324e+02\n",
      "  4.76196408e+02  1.51569111e+02  9.14231582e+01  5.65041199e+02\n",
      "  1.44254161e+03 -7.55333839e+02  6.96502053e+02 -1.23451690e+02\n",
      " -3.47325914e+02 -3.80104252e+01 -7.03678510e+02 -5.47388158e+01\n",
      " -1.44131347e+03 -1.79788047e+02  6.15818560e+02  6.85291052e+02\n",
      "  4.69063969e+02  2.22037628e+02 -1.21350130e+03 -5.49562705e+02\n",
      " -1.14795280e+03 -1.88076132e+01 -1.91290955e+02 -3.14937758e+02\n",
      " -1.27857600e+03 -1.15881992e+03 -6.24279841e+02 -1.96195447e+03\n",
      "  1.92861037e+03 -7.01660134e+02  9.57863571e+02  1.38566319e+03\n",
      "  3.81605494e+02 -1.28829795e+01 -7.19332760e+01 -4.11480480e+02\n",
      " -2.87475554e+01 -1.52622183e+03  4.69312608e+02  6.44542315e+01\n",
      "  4.95311727e+02  9.35699407e+02  8.32367203e+02  2.92620570e+02\n",
      " -1.01942006e+03  6.10018139e+02  1.22733403e+03  4.26748536e+02\n",
      "  8.92572911e+02  3.92958165e+02  4.06535996e+02 -2.66873529e+02\n",
      " -2.04353434e+02  4.95071854e+02 -3.41820785e+02 -6.48749183e+02\n",
      "  4.97045635e+02  6.03917428e+02 -6.31869252e+02  1.28086032e+03\n",
      "  8.85491528e+02  1.02231016e+03 -9.67519111e+02 -3.56071855e+02\n",
      "  1.58925863e+02  2.03589322e+02  5.38958944e+02  1.12174129e+03\n",
      "  1.05756930e+03 -9.40477833e+02  3.49177353e+02  9.01060595e+01\n",
      " -1.27527827e+03  4.16541570e+02  1.12475905e+00 -1.82300218e+02\n",
      "  1.01906605e+03 -1.00673993e+03 -1.43213879e+03  1.79712076e+02\n",
      "  5.23264076e+00  8.87409717e+02 -2.75642438e+03  8.01574956e+02\n",
      "  5.86572963e+02 -2.54253927e+02 -2.99830860e+01 -2.22712794e+01\n",
      " -1.38243802e+03 -1.70000178e+02  3.33845380e+02  8.10249878e+02\n",
      "  2.72857443e+02  9.95181390e+01 -2.59135056e+03  4.07341975e+02\n",
      " -8.65729038e+02  1.31628714e+03  1.00326270e+01 -1.69801674e+02\n",
      "  3.03041594e+02  1.66001069e+03  9.35045170e+01]\n"
     ]
    }
   ],
   "source": [
    "# Predicting test set results for daily dataset\n",
    "y_day_pred = regressor.predict(X_day_test)\n",
    "\n",
    "print(y_day_test -  y_day_pred)"
   ]
  },
  {
   "cell_type": "code",
   "execution_count": 68,
   "metadata": {},
   "outputs": [
    {
     "data": {
      "text/html": [
       "<table class=\"simpletable\">\n",
       "<caption>OLS Regression Results</caption>\n",
       "<tr>\n",
       "  <th>Dep. Variable:</th>            <td>y</td>        <th>  R-squared:         </th> <td>   0.800</td> \n",
       "</tr>\n",
       "<tr>\n",
       "  <th>Model:</th>                   <td>OLS</td>       <th>  Adj. R-squared:    </th> <td>   0.797</td> \n",
       "</tr>\n",
       "<tr>\n",
       "  <th>Method:</th>             <td>Least Squares</td>  <th>  F-statistic:       </th> <td>   261.9</td> \n",
       "</tr>\n",
       "<tr>\n",
       "  <th>Date:</th>             <td>Mon, 01 Oct 2018</td> <th>  Prob (F-statistic):</th> <td>7.80e-243</td>\n",
       "</tr>\n",
       "<tr>\n",
       "  <th>Time:</th>                 <td>07:43:45</td>     <th>  Log-Likelihood:    </th> <td> -5981.0</td> \n",
       "</tr>\n",
       "<tr>\n",
       "  <th>No. Observations:</th>      <td>   731</td>      <th>  AIC:               </th> <td>1.199e+04</td>\n",
       "</tr>\n",
       "<tr>\n",
       "  <th>Df Residuals:</th>          <td>   719</td>      <th>  BIC:               </th> <td>1.204e+04</td>\n",
       "</tr>\n",
       "<tr>\n",
       "  <th>Df Model:</th>              <td>    11</td>      <th>                     </th>     <td> </td>    \n",
       "</tr>\n",
       "<tr>\n",
       "  <th>Covariance Type:</th>      <td>nonrobust</td>    <th>                     </th>     <td> </td>    \n",
       "</tr>\n",
       "</table>\n",
       "<table class=\"simpletable\">\n",
       "<tr>\n",
       "    <td></td>       <th>coef</th>     <th>std err</th>      <th>t</th>      <th>P>|t|</th>  <th>[0.025</th>    <th>0.975]</th>  \n",
       "</tr>\n",
       "<tr>\n",
       "  <th>const</th> <td> 1469.0031</td> <td>  240.218</td> <td>    6.115</td> <td> 0.000</td> <td>  997.390</td> <td> 1940.616</td>\n",
       "</tr>\n",
       "<tr>\n",
       "  <th>x1</th>    <td>  509.7752</td> <td>   54.757</td> <td>    9.310</td> <td> 0.000</td> <td>  402.272</td> <td>  617.278</td>\n",
       "</tr>\n",
       "<tr>\n",
       "  <th>x2</th>    <td> 2040.7034</td> <td>   65.185</td> <td>   31.306</td> <td> 0.000</td> <td> 1912.727</td> <td> 2168.680</td>\n",
       "</tr>\n",
       "<tr>\n",
       "  <th>x3</th>    <td>  -38.9796</td> <td>   17.079</td> <td>   -2.282</td> <td> 0.023</td> <td>  -72.510</td> <td>   -5.449</td>\n",
       "</tr>\n",
       "<tr>\n",
       "  <th>x4</th>    <td> -518.9919</td> <td>  201.040</td> <td>   -2.582</td> <td> 0.010</td> <td> -913.688</td> <td> -124.296</td>\n",
       "</tr>\n",
       "<tr>\n",
       "  <th>x5</th>    <td>   69.0622</td> <td>   16.299</td> <td>    4.237</td> <td> 0.000</td> <td>   37.063</td> <td>  101.061</td>\n",
       "</tr>\n",
       "<tr>\n",
       "  <th>x6</th>    <td>  120.3570</td> <td>   72.007</td> <td>    1.671</td> <td> 0.095</td> <td>  -21.013</td> <td>  261.727</td>\n",
       "</tr>\n",
       "<tr>\n",
       "  <th>x7</th>    <td> -610.9870</td> <td>   78.363</td> <td>   -7.797</td> <td> 0.000</td> <td> -764.835</td> <td> -457.139</td>\n",
       "</tr>\n",
       "<tr>\n",
       "  <th>x8</th>    <td> 2028.9161</td> <td> 1403.671</td> <td>    1.445</td> <td> 0.149</td> <td> -726.867</td> <td> 4784.699</td>\n",
       "</tr>\n",
       "<tr>\n",
       "  <th>x9</th>    <td> 3573.2743</td> <td> 1589.389</td> <td>    2.248</td> <td> 0.025</td> <td>  452.877</td> <td> 6693.671</td>\n",
       "</tr>\n",
       "<tr>\n",
       "  <th>x10</th>   <td>-1018.8616</td> <td>  313.995</td> <td>   -3.245</td> <td> 0.001</td> <td>-1635.318</td> <td> -402.405</td>\n",
       "</tr>\n",
       "<tr>\n",
       "  <th>x11</th>   <td>-2557.5691</td> <td>  456.278</td> <td>   -5.605</td> <td> 0.000</td> <td>-3453.365</td> <td>-1661.774</td>\n",
       "</tr>\n",
       "</table>\n",
       "<table class=\"simpletable\">\n",
       "<tr>\n",
       "  <th>Omnibus:</th>       <td>88.811</td> <th>  Durbin-Watson:     </th> <td>   0.967</td>\n",
       "</tr>\n",
       "<tr>\n",
       "  <th>Prob(Omnibus):</th> <td> 0.000</td> <th>  Jarque-Bera (JB):  </th> <td> 180.069</td>\n",
       "</tr>\n",
       "<tr>\n",
       "  <th>Skew:</th>          <td>-0.717</td> <th>  Prob(JB):          </th> <td>7.92e-40</td>\n",
       "</tr>\n",
       "<tr>\n",
       "  <th>Kurtosis:</th>      <td> 4.964</td> <th>  Cond. No.          </th> <td>    561.</td>\n",
       "</tr>\n",
       "</table>"
      ],
      "text/plain": [
       "<class 'statsmodels.iolib.summary.Summary'>\n",
       "\"\"\"\n",
       "                            OLS Regression Results                            \n",
       "==============================================================================\n",
       "Dep. Variable:                      y   R-squared:                       0.800\n",
       "Model:                            OLS   Adj. R-squared:                  0.797\n",
       "Method:                 Least Squares   F-statistic:                     261.9\n",
       "Date:                Mon, 01 Oct 2018   Prob (F-statistic):          7.80e-243\n",
       "Time:                        07:43:45   Log-Likelihood:                -5981.0\n",
       "No. Observations:                 731   AIC:                         1.199e+04\n",
       "Df Residuals:                     719   BIC:                         1.204e+04\n",
       "Df Model:                          11                                         \n",
       "Covariance Type:            nonrobust                                         \n",
       "==============================================================================\n",
       "                 coef    std err          t      P>|t|      [0.025      0.975]\n",
       "------------------------------------------------------------------------------\n",
       "const       1469.0031    240.218      6.115      0.000     997.390    1940.616\n",
       "x1           509.7752     54.757      9.310      0.000     402.272     617.278\n",
       "x2          2040.7034     65.185     31.306      0.000    1912.727    2168.680\n",
       "x3           -38.9796     17.079     -2.282      0.023     -72.510      -5.449\n",
       "x4          -518.9919    201.040     -2.582      0.010    -913.688    -124.296\n",
       "x5            69.0622     16.299      4.237      0.000      37.063     101.061\n",
       "x6           120.3570     72.007      1.671      0.095     -21.013     261.727\n",
       "x7          -610.9870     78.363     -7.797      0.000    -764.835    -457.139\n",
       "x8          2028.9161   1403.671      1.445      0.149    -726.867    4784.699\n",
       "x9          3573.2743   1589.389      2.248      0.025     452.877    6693.671\n",
       "x10        -1018.8616    313.995     -3.245      0.001   -1635.318    -402.405\n",
       "x11        -2557.5691    456.278     -5.605      0.000   -3453.365   -1661.774\n",
       "==============================================================================\n",
       "Omnibus:                       88.811   Durbin-Watson:                   0.967\n",
       "Prob(Omnibus):                  0.000   Jarque-Bera (JB):              180.069\n",
       "Skew:                          -0.717   Prob(JB):                     7.92e-40\n",
       "Kurtosis:                       4.964   Cond. No.                         561.\n",
       "==============================================================================\n",
       "\n",
       "Warnings:\n",
       "[1] Standard Errors assume that the covariance matrix of the errors is correctly specified.\n",
       "\"\"\""
      ]
     },
     "execution_count": 68,
     "metadata": {},
     "output_type": "execute_result"
    }
   ],
   "source": [
    "# Backward elimination on daily dataset\n",
    "X_day = np.append(arr = np.ones((731,1)).astype(int), values = X_day, axis = 1)\n",
    "X_opt = X_day[:, [0, 1, 2, 3, 4, 5, 6, 7, 8, 9, 10, 11]]\n",
    "regressor_OLS = sm.OLS(endog = y_day, exog = X_opt).fit()\n",
    "regressor_OLS.summary()\n",
    "# Remove independent variables with P-value > .05:\n",
    "# Drop indices 6 & 8"
   ]
  },
  {
   "cell_type": "code",
   "execution_count": 79,
   "metadata": {},
   "outputs": [
    {
     "data": {
      "text/html": [
       "<table class=\"simpletable\">\n",
       "<caption>OLS Regression Results</caption>\n",
       "<tr>\n",
       "  <th>Dep. Variable:</th>            <td>y</td>        <th>  R-squared:         </th> <td>   0.799</td> \n",
       "</tr>\n",
       "<tr>\n",
       "  <th>Model:</th>                   <td>OLS</td>       <th>  Adj. R-squared:    </th> <td>   0.796</td> \n",
       "</tr>\n",
       "<tr>\n",
       "  <th>Method:</th>             <td>Least Squares</td>  <th>  F-statistic:       </th> <td>   318.2</td> \n",
       "</tr>\n",
       "<tr>\n",
       "  <th>Date:</th>             <td>Mon, 01 Oct 2018</td> <th>  Prob (F-statistic):</th> <td>2.87e-244</td>\n",
       "</tr>\n",
       "<tr>\n",
       "  <th>Time:</th>                 <td>07:44:48</td>     <th>  Log-Likelihood:    </th> <td> -5983.5</td> \n",
       "</tr>\n",
       "<tr>\n",
       "  <th>No. Observations:</th>      <td>   731</td>      <th>  AIC:               </th> <td>1.199e+04</td>\n",
       "</tr>\n",
       "<tr>\n",
       "  <th>Df Residuals:</th>          <td>   721</td>      <th>  BIC:               </th> <td>1.203e+04</td>\n",
       "</tr>\n",
       "<tr>\n",
       "  <th>Df Model:</th>              <td>     9</td>      <th>                     </th>     <td> </td>    \n",
       "</tr>\n",
       "<tr>\n",
       "  <th>Covariance Type:</th>      <td>nonrobust</td>    <th>                     </th>     <td> </td>    \n",
       "</tr>\n",
       "</table>\n",
       "<table class=\"simpletable\">\n",
       "<tr>\n",
       "    <td></td>       <th>coef</th>     <th>std err</th>      <th>t</th>      <th>P>|t|</th>  <th>[0.025</th>    <th>0.975]</th>  \n",
       "</tr>\n",
       "<tr>\n",
       "  <th>const</th> <td> 1458.3767</td> <td>  228.137</td> <td>    6.393</td> <td> 0.000</td> <td> 1010.484</td> <td> 1906.269</td>\n",
       "</tr>\n",
       "<tr>\n",
       "  <th>x1</th>    <td>  509.7017</td> <td>   54.867</td> <td>    9.290</td> <td> 0.000</td> <td>  401.984</td> <td>  617.420</td>\n",
       "</tr>\n",
       "<tr>\n",
       "  <th>x2</th>    <td> 2041.0816</td> <td>   65.316</td> <td>   31.249</td> <td> 0.000</td> <td> 1912.849</td> <td> 2169.314</td>\n",
       "</tr>\n",
       "<tr>\n",
       "  <th>x3</th>    <td>  -39.2280</td> <td>   17.113</td> <td>   -2.292</td> <td> 0.022</td> <td>  -72.824</td> <td>   -5.632</td>\n",
       "</tr>\n",
       "<tr>\n",
       "  <th>x4</th>    <td> -592.0094</td> <td>  195.080</td> <td>   -3.035</td> <td> 0.002</td> <td> -975.002</td> <td> -209.017</td>\n",
       "</tr>\n",
       "<tr>\n",
       "  <th>x5</th>    <td>   70.5067</td> <td>   16.309</td> <td>    4.323</td> <td> 0.000</td> <td>   38.488</td> <td>  102.525</td>\n",
       "</tr>\n",
       "<tr>\n",
       "  <th>x6</th>    <td> -598.2989</td> <td>   78.304</td> <td>   -7.641</td> <td> 0.000</td> <td> -752.029</td> <td> -444.569</td>\n",
       "</tr>\n",
       "<tr>\n",
       "  <th>x7</th>    <td> 5868.6082</td> <td>  220.345</td> <td>   26.634</td> <td> 0.000</td> <td> 5436.014</td> <td> 6301.202</td>\n",
       "</tr>\n",
       "<tr>\n",
       "  <th>x8</th>    <td>-1060.9489</td> <td>  313.980</td> <td>   -3.379</td> <td> 0.001</td> <td>-1677.373</td> <td> -444.525</td>\n",
       "</tr>\n",
       "<tr>\n",
       "  <th>x9</th>    <td>-2466.4982</td> <td>  450.986</td> <td>   -5.469</td> <td> 0.000</td> <td>-3351.900</td> <td>-1581.096</td>\n",
       "</tr>\n",
       "</table>\n",
       "<table class=\"simpletable\">\n",
       "<tr>\n",
       "  <th>Omnibus:</th>       <td>98.079</td> <th>  Durbin-Watson:     </th> <td>   0.975</td>\n",
       "</tr>\n",
       "<tr>\n",
       "  <th>Prob(Omnibus):</th> <td> 0.000</td> <th>  Jarque-Bera (JB):  </th> <td> 203.980</td>\n",
       "</tr>\n",
       "<tr>\n",
       "  <th>Skew:</th>          <td>-0.773</td> <th>  Prob(JB):          </th> <td>5.08e-45</td>\n",
       "</tr>\n",
       "<tr>\n",
       "  <th>Kurtosis:</th>      <td> 5.075</td> <th>  Cond. No.          </th> <td>    130.</td>\n",
       "</tr>\n",
       "</table>"
      ],
      "text/plain": [
       "<class 'statsmodels.iolib.summary.Summary'>\n",
       "\"\"\"\n",
       "                            OLS Regression Results                            \n",
       "==============================================================================\n",
       "Dep. Variable:                      y   R-squared:                       0.799\n",
       "Model:                            OLS   Adj. R-squared:                  0.796\n",
       "Method:                 Least Squares   F-statistic:                     318.2\n",
       "Date:                Mon, 01 Oct 2018   Prob (F-statistic):          2.87e-244\n",
       "Time:                        07:44:48   Log-Likelihood:                -5983.5\n",
       "No. Observations:                 731   AIC:                         1.199e+04\n",
       "Df Residuals:                     721   BIC:                         1.203e+04\n",
       "Df Model:                           9                                         \n",
       "Covariance Type:            nonrobust                                         \n",
       "==============================================================================\n",
       "                 coef    std err          t      P>|t|      [0.025      0.975]\n",
       "------------------------------------------------------------------------------\n",
       "const       1458.3767    228.137      6.393      0.000    1010.484    1906.269\n",
       "x1           509.7017     54.867      9.290      0.000     401.984     617.420\n",
       "x2          2041.0816     65.316     31.249      0.000    1912.849    2169.314\n",
       "x3           -39.2280     17.113     -2.292      0.022     -72.824      -5.632\n",
       "x4          -592.0094    195.080     -3.035      0.002    -975.002    -209.017\n",
       "x5            70.5067     16.309      4.323      0.000      38.488     102.525\n",
       "x6          -598.2989     78.304     -7.641      0.000    -752.029    -444.569\n",
       "x7          5868.6082    220.345     26.634      0.000    5436.014    6301.202\n",
       "x8         -1060.9489    313.980     -3.379      0.001   -1677.373    -444.525\n",
       "x9         -2466.4982    450.986     -5.469      0.000   -3351.900   -1581.096\n",
       "==============================================================================\n",
       "Omnibus:                       98.079   Durbin-Watson:                   0.975\n",
       "Prob(Omnibus):                  0.000   Jarque-Bera (JB):              203.980\n",
       "Skew:                          -0.773   Prob(JB):                     5.08e-45\n",
       "Kurtosis:                       5.075   Cond. No.                         130.\n",
       "==============================================================================\n",
       "\n",
       "Warnings:\n",
       "[1] Standard Errors assume that the covariance matrix of the errors is correctly specified.\n",
       "\"\"\""
      ]
     },
     "execution_count": 79,
     "metadata": {},
     "output_type": "execute_result"
    }
   ],
   "source": [
    "X_opt = X_day[:, [0, 1, 2, 3, 4, 5, 7, 9, 10, 11]]\n",
    "regressor_OLS = sm.OLS(endog = y_day, exog = X_opt).fit()\n",
    "regressor_OLS.summary()"
   ]
  },
  {
   "cell_type": "markdown",
   "metadata": {},
   "source": [
    "0 - Season\n",
    "1 - Year\n",
    "2 - Month\n",
    "3 - Holiday\n",
    "4 - Weekday\n",
    "5 - Workday\n",
    "7 - Weathersit\n",
    "9 - Temp\n",
    "10 - Atemp\n",
    "11 - Humidity"
   ]
  },
  {
   "cell_type": "code",
   "execution_count": 72,
   "metadata": {},
   "outputs": [],
   "source": [
    "X_hour_train, X_hour_test, y_hour_train, y_hour_test = train_test_split(X_hour, y_hour, test_size=0.2)"
   ]
  },
  {
   "cell_type": "code",
   "execution_count": 73,
   "metadata": {},
   "outputs": [
    {
     "data": {
      "text/plain": [
       "LinearRegression(copy_X=True, fit_intercept=True, n_jobs=1, normalize=False)"
      ]
     },
     "execution_count": 73,
     "metadata": {},
     "output_type": "execute_result"
    }
   ],
   "source": [
    "# Basic Multiple Linear on hourly dataset\n",
    "regressor = LinearRegression()\n",
    "regressor.fit(X_hour_train, y_hour_train)"
   ]
  },
  {
   "cell_type": "code",
   "execution_count": 74,
   "metadata": {},
   "outputs": [
    {
     "name": "stdout",
     "output_type": "stream",
     "text": [
      "[  -6.32021466 -102.66259432  125.97023868 ... -153.1615886    17.70898946\n",
      "  -49.15533633]\n"
     ]
    }
   ],
   "source": [
    "# Predicting test set results for hourly dataset\n",
    "y_hour_pred = regressor.predict(X_hour_test)\n",
    "\n",
    "print(y_hour_test - y_hour_pred)"
   ]
  },
  {
   "cell_type": "code",
   "execution_count": null,
   "metadata": {},
   "outputs": [],
   "source": []
  },
  {
   "cell_type": "code",
   "execution_count": 75,
   "metadata": {},
   "outputs": [
    {
     "data": {
      "text/html": [
       "<table class=\"simpletable\">\n",
       "<caption>OLS Regression Results</caption>\n",
       "<tr>\n",
       "  <th>Dep. Variable:</th>            <td>y</td>        <th>  R-squared:         </th>  <td>   0.389</td>  \n",
       "</tr>\n",
       "<tr>\n",
       "  <th>Model:</th>                   <td>OLS</td>       <th>  Adj. R-squared:    </th>  <td>   0.388</td>  \n",
       "</tr>\n",
       "<tr>\n",
       "  <th>Method:</th>             <td>Least Squares</td>  <th>  F-statistic:       </th>  <td>   920.8</td>  \n",
       "</tr>\n",
       "<tr>\n",
       "  <th>Date:</th>             <td>Mon, 01 Oct 2018</td> <th>  Prob (F-statistic):</th>   <td>  0.00</td>   \n",
       "</tr>\n",
       "<tr>\n",
       "  <th>Time:</th>                 <td>07:43:46</td>     <th>  Log-Likelihood:    </th> <td>-1.1076e+05</td>\n",
       "</tr>\n",
       "<tr>\n",
       "  <th>No. Observations:</th>      <td> 17379</td>      <th>  AIC:               </th>  <td>2.216e+05</td> \n",
       "</tr>\n",
       "<tr>\n",
       "  <th>Df Residuals:</th>          <td> 17366</td>      <th>  BIC:               </th>  <td>2.217e+05</td> \n",
       "</tr>\n",
       "<tr>\n",
       "  <th>Df Model:</th>              <td>    12</td>      <th>                     </th>      <td> </td>     \n",
       "</tr>\n",
       "<tr>\n",
       "  <th>Covariance Type:</th>      <td>nonrobust</td>    <th>                     </th>      <td> </td>     \n",
       "</tr>\n",
       "</table>\n",
       "<table class=\"simpletable\">\n",
       "<tr>\n",
       "    <td></td>       <th>coef</th>     <th>std err</th>      <th>t</th>      <th>P>|t|</th>  <th>[0.025</th>    <th>0.975]</th>  \n",
       "</tr>\n",
       "<tr>\n",
       "  <th>const</th> <td>  -25.7573</td> <td>    7.057</td> <td>   -3.650</td> <td> 0.000</td> <td>  -39.590</td> <td>  -11.925</td>\n",
       "</tr>\n",
       "<tr>\n",
       "  <th>x1</th>    <td>   19.8993</td> <td>    1.819</td> <td>   10.941</td> <td> 0.000</td> <td>   16.334</td> <td>   23.464</td>\n",
       "</tr>\n",
       "<tr>\n",
       "  <th>x2</th>    <td>   81.0872</td> <td>    2.164</td> <td>   37.463</td> <td> 0.000</td> <td>   76.845</td> <td>   85.330</td>\n",
       "</tr>\n",
       "<tr>\n",
       "  <th>x3</th>    <td>   -0.0086</td> <td>    0.567</td> <td>   -0.015</td> <td> 0.988</td> <td>   -1.120</td> <td>    1.103</td>\n",
       "</tr>\n",
       "<tr>\n",
       "  <th>x4</th>    <td>    7.6706</td> <td>    0.165</td> <td>   46.513</td> <td> 0.000</td> <td>    7.347</td> <td>    7.994</td>\n",
       "</tr>\n",
       "<tr>\n",
       "  <th>x5</th>    <td>  -21.8792</td> <td>    6.694</td> <td>   -3.268</td> <td> 0.001</td> <td>  -35.001</td> <td>   -8.758</td>\n",
       "</tr>\n",
       "<tr>\n",
       "  <th>x6</th>    <td>    1.8784</td> <td>    0.541</td> <td>    3.474</td> <td> 0.001</td> <td>    0.819</td> <td>    2.938</td>\n",
       "</tr>\n",
       "<tr>\n",
       "  <th>x7</th>    <td>    3.9392</td> <td>    2.396</td> <td>    1.644</td> <td> 0.100</td> <td>   -0.756</td> <td>    8.635</td>\n",
       "</tr>\n",
       "<tr>\n",
       "  <th>x8</th>    <td>   -3.4321</td> <td>    1.905</td> <td>   -1.802</td> <td> 0.072</td> <td>   -7.165</td> <td>    0.301</td>\n",
       "</tr>\n",
       "<tr>\n",
       "  <th>x9</th>    <td>   78.1498</td> <td>   36.957</td> <td>    2.115</td> <td> 0.034</td> <td>    5.710</td> <td>  150.590</td>\n",
       "</tr>\n",
       "<tr>\n",
       "  <th>x10</th>   <td>  233.1571</td> <td>   41.517</td> <td>    5.616</td> <td> 0.000</td> <td>  151.779</td> <td>  314.535</td>\n",
       "</tr>\n",
       "<tr>\n",
       "  <th>x11</th>   <td> -198.1847</td> <td>    6.889</td> <td>  -28.770</td> <td> 0.000</td> <td> -211.687</td> <td> -184.682</td>\n",
       "</tr>\n",
       "<tr>\n",
       "  <th>x12</th>   <td>   41.5652</td> <td>    9.628</td> <td>    4.317</td> <td> 0.000</td> <td>   22.692</td> <td>   60.438</td>\n",
       "</tr>\n",
       "</table>\n",
       "<table class=\"simpletable\">\n",
       "<tr>\n",
       "  <th>Omnibus:</th>       <td>3417.855</td> <th>  Durbin-Watson:     </th> <td>   0.553</td>\n",
       "</tr>\n",
       "<tr>\n",
       "  <th>Prob(Omnibus):</th>  <td> 0.000</td>  <th>  Jarque-Bera (JB):  </th> <td>6659.872</td>\n",
       "</tr>\n",
       "<tr>\n",
       "  <th>Skew:</th>           <td> 1.198</td>  <th>  Prob(JB):          </th> <td>    0.00</td>\n",
       "</tr>\n",
       "<tr>\n",
       "  <th>Kurtosis:</th>       <td> 4.859</td>  <th>  Cond. No.          </th> <td>    787.</td>\n",
       "</tr>\n",
       "</table>"
      ],
      "text/plain": [
       "<class 'statsmodels.iolib.summary.Summary'>\n",
       "\"\"\"\n",
       "                            OLS Regression Results                            \n",
       "==============================================================================\n",
       "Dep. Variable:                      y   R-squared:                       0.389\n",
       "Model:                            OLS   Adj. R-squared:                  0.388\n",
       "Method:                 Least Squares   F-statistic:                     920.8\n",
       "Date:                Mon, 01 Oct 2018   Prob (F-statistic):               0.00\n",
       "Time:                        07:43:46   Log-Likelihood:            -1.1076e+05\n",
       "No. Observations:               17379   AIC:                         2.216e+05\n",
       "Df Residuals:                   17366   BIC:                         2.217e+05\n",
       "Df Model:                          12                                         \n",
       "Covariance Type:            nonrobust                                         \n",
       "==============================================================================\n",
       "                 coef    std err          t      P>|t|      [0.025      0.975]\n",
       "------------------------------------------------------------------------------\n",
       "const        -25.7573      7.057     -3.650      0.000     -39.590     -11.925\n",
       "x1            19.8993      1.819     10.941      0.000      16.334      23.464\n",
       "x2            81.0872      2.164     37.463      0.000      76.845      85.330\n",
       "x3            -0.0086      0.567     -0.015      0.988      -1.120       1.103\n",
       "x4             7.6706      0.165     46.513      0.000       7.347       7.994\n",
       "x5           -21.8792      6.694     -3.268      0.001     -35.001      -8.758\n",
       "x6             1.8784      0.541      3.474      0.001       0.819       2.938\n",
       "x7             3.9392      2.396      1.644      0.100      -0.756       8.635\n",
       "x8            -3.4321      1.905     -1.802      0.072      -7.165       0.301\n",
       "x9            78.1498     36.957      2.115      0.034       5.710     150.590\n",
       "x10          233.1571     41.517      5.616      0.000     151.779     314.535\n",
       "x11         -198.1847      6.889    -28.770      0.000    -211.687    -184.682\n",
       "x12           41.5652      9.628      4.317      0.000      22.692      60.438\n",
       "==============================================================================\n",
       "Omnibus:                     3417.855   Durbin-Watson:                   0.553\n",
       "Prob(Omnibus):                  0.000   Jarque-Bera (JB):             6659.872\n",
       "Skew:                           1.198   Prob(JB):                         0.00\n",
       "Kurtosis:                       4.859   Cond. No.                         787.\n",
       "==============================================================================\n",
       "\n",
       "Warnings:\n",
       "[1] Standard Errors assume that the covariance matrix of the errors is correctly specified.\n",
       "\"\"\""
      ]
     },
     "execution_count": 75,
     "metadata": {},
     "output_type": "execute_result"
    }
   ],
   "source": [
    "# Backward elimination on hourly dataset\n",
    "X_hour = np.append(arr = np.ones((17379,1)).astype(int), values = X_hour, axis = 1)\n",
    "X_opt = X_hour[:, [0, 1, 2, 3, 4, 5, 6, 7, 8, 9, 10, 11, 12]]\n",
    "regressor_OLS = sm.OLS(endog = y_hour, exog = X_opt).fit()\n",
    "regressor_OLS.summary()\n",
    "# Remove independent variables with P-value > .05:\n",
    "#Remove indices 3, 7, & 8"
   ]
  },
  {
   "cell_type": "code",
   "execution_count": 80,
   "metadata": {},
   "outputs": [
    {
     "data": {
      "text/html": [
       "<table class=\"simpletable\">\n",
       "<caption>OLS Regression Results</caption>\n",
       "<tr>\n",
       "  <th>Dep. Variable:</th>            <td>y</td>        <th>  R-squared:         </th>  <td>   0.116</td>  \n",
       "</tr>\n",
       "<tr>\n",
       "  <th>Model:</th>                   <td>OLS</td>       <th>  Adj. R-squared:    </th>  <td>   0.116</td>  \n",
       "</tr>\n",
       "<tr>\n",
       "  <th>Method:</th>             <td>Least Squares</td>  <th>  F-statistic:       </th>  <td>   380.4</td>  \n",
       "</tr>\n",
       "<tr>\n",
       "  <th>Date:</th>             <td>Mon, 01 Oct 2018</td> <th>  Prob (F-statistic):</th>   <td>  0.00</td>   \n",
       "</tr>\n",
       "<tr>\n",
       "  <th>Time:</th>                 <td>07:46:37</td>     <th>  Log-Likelihood:    </th> <td>-1.1397e+05</td>\n",
       "</tr>\n",
       "<tr>\n",
       "  <th>No. Observations:</th>      <td> 17379</td>      <th>  AIC:               </th>  <td>2.280e+05</td> \n",
       "</tr>\n",
       "<tr>\n",
       "  <th>Df Residuals:</th>          <td> 17372</td>      <th>  BIC:               </th>  <td>2.280e+05</td> \n",
       "</tr>\n",
       "<tr>\n",
       "  <th>Df Model:</th>              <td>     6</td>      <th>                     </th>      <td> </td>     \n",
       "</tr>\n",
       "<tr>\n",
       "  <th>Covariance Type:</th>      <td>nonrobust</td>    <th>                     </th>      <td> </td>     \n",
       "</tr>\n",
       "</table>\n",
       "<table class=\"simpletable\">\n",
       "<tr>\n",
       "    <td></td>       <th>coef</th>     <th>std err</th>      <th>t</th>      <th>P>|t|</th>  <th>[0.025</th>    <th>0.975]</th>  \n",
       "</tr>\n",
       "<tr>\n",
       "  <th>const</th> <td>   28.1453</td> <td>    1.326</td> <td>   21.228</td> <td> 0.000</td> <td>   25.546</td> <td>   30.744</td>\n",
       "</tr>\n",
       "<tr>\n",
       "  <th>x1</th>    <td>   28.1453</td> <td>    1.326</td> <td>   21.228</td> <td> 0.000</td> <td>   25.546</td> <td>   30.744</td>\n",
       "</tr>\n",
       "<tr>\n",
       "  <th>x2</th>    <td>   28.1453</td> <td>    1.326</td> <td>   21.228</td> <td> 0.000</td> <td>   25.546</td> <td>   30.744</td>\n",
       "</tr>\n",
       "<tr>\n",
       "  <th>x3</th>    <td>   28.1453</td> <td>    1.326</td> <td>   21.228</td> <td> 0.000</td> <td>   25.546</td> <td>   30.744</td>\n",
       "</tr>\n",
       "<tr>\n",
       "  <th>x4</th>    <td>   29.2027</td> <td>    1.169</td> <td>   24.976</td> <td> 0.000</td> <td>   26.911</td> <td>   31.495</td>\n",
       "</tr>\n",
       "<tr>\n",
       "  <th>x5</th>    <td>   90.7368</td> <td>    2.588</td> <td>   35.056</td> <td> 0.000</td> <td>   85.663</td> <td>   95.810</td>\n",
       "</tr>\n",
       "<tr>\n",
       "  <th>x6</th>    <td>  -25.6638</td> <td>    8.037</td> <td>   -3.193</td> <td> 0.001</td> <td>  -41.417</td> <td>   -9.911</td>\n",
       "</tr>\n",
       "<tr>\n",
       "  <th>x7</th>    <td>    2.3045</td> <td>    0.648</td> <td>    3.554</td> <td> 0.000</td> <td>    1.033</td> <td>    3.576</td>\n",
       "</tr>\n",
       "<tr>\n",
       "  <th>x8</th>    <td>   10.7588</td> <td>    2.876</td> <td>    3.741</td> <td> 0.000</td> <td>    5.122</td> <td>   16.396</td>\n",
       "</tr>\n",
       "<tr>\n",
       "  <th>x9</th>    <td>  -38.8012</td> <td>    2.026</td> <td>  -19.149</td> <td> 0.000</td> <td>  -42.773</td> <td>  -34.829</td>\n",
       "</tr>\n",
       "</table>\n",
       "<table class=\"simpletable\">\n",
       "<tr>\n",
       "  <th>Omnibus:</th>       <td>2381.887</td> <th>  Durbin-Watson:     </th> <td>   0.362</td>\n",
       "</tr>\n",
       "<tr>\n",
       "  <th>Prob(Omnibus):</th>  <td> 0.000</td>  <th>  Jarque-Bera (JB):  </th> <td>3598.901</td>\n",
       "</tr>\n",
       "<tr>\n",
       "  <th>Skew:</th>           <td> 0.995</td>  <th>  Prob(JB):          </th> <td>    0.00</td>\n",
       "</tr>\n",
       "<tr>\n",
       "  <th>Kurtosis:</th>       <td> 4.005</td>  <th>  Cond. No.          </th> <td>3.73e+17</td>\n",
       "</tr>\n",
       "</table>"
      ],
      "text/plain": [
       "<class 'statsmodels.iolib.summary.Summary'>\n",
       "\"\"\"\n",
       "                            OLS Regression Results                            \n",
       "==============================================================================\n",
       "Dep. Variable:                      y   R-squared:                       0.116\n",
       "Model:                            OLS   Adj. R-squared:                  0.116\n",
       "Method:                 Least Squares   F-statistic:                     380.4\n",
       "Date:                Mon, 01 Oct 2018   Prob (F-statistic):               0.00\n",
       "Time:                        07:46:37   Log-Likelihood:            -1.1397e+05\n",
       "No. Observations:               17379   AIC:                         2.280e+05\n",
       "Df Residuals:                   17372   BIC:                         2.280e+05\n",
       "Df Model:                           6                                         \n",
       "Covariance Type:            nonrobust                                         \n",
       "==============================================================================\n",
       "                 coef    std err          t      P>|t|      [0.025      0.975]\n",
       "------------------------------------------------------------------------------\n",
       "const         28.1453      1.326     21.228      0.000      25.546      30.744\n",
       "x1            28.1453      1.326     21.228      0.000      25.546      30.744\n",
       "x2            28.1453      1.326     21.228      0.000      25.546      30.744\n",
       "x3            28.1453      1.326     21.228      0.000      25.546      30.744\n",
       "x4            29.2027      1.169     24.976      0.000      26.911      31.495\n",
       "x5            90.7368      2.588     35.056      0.000      85.663      95.810\n",
       "x6           -25.6638      8.037     -3.193      0.001     -41.417      -9.911\n",
       "x7             2.3045      0.648      3.554      0.000       1.033       3.576\n",
       "x8            10.7588      2.876      3.741      0.000       5.122      16.396\n",
       "x9           -38.8012      2.026    -19.149      0.000     -42.773     -34.829\n",
       "==============================================================================\n",
       "Omnibus:                     2381.887   Durbin-Watson:                   0.362\n",
       "Prob(Omnibus):                  0.000   Jarque-Bera (JB):             3598.901\n",
       "Skew:                           0.995   Prob(JB):                         0.00\n",
       "Kurtosis:                       4.005   Cond. No.                     3.73e+17\n",
       "==============================================================================\n",
       "\n",
       "Warnings:\n",
       "[1] Standard Errors assume that the covariance matrix of the errors is correctly specified.\n",
       "[2] The smallest eigenvalue is 3.02e-30. This might indicate that there are\n",
       "strong multicollinearity problems or that the design matrix is singular.\n",
       "\"\"\""
      ]
     },
     "execution_count": 80,
     "metadata": {},
     "output_type": "execute_result"
    }
   ],
   "source": [
    "# Backward elimination on hourly dataset\n",
    "X_hour = np.append(arr = np.ones((17379,1)).astype(int), values = X_hour, axis = 1)\n",
    "X_opt = X_hour[:, [0, 1, 2, 4, 5, 6, 9, 10, 11, 12]]\n",
    "regressor_OLS = sm.OLS(endog = y_hour, exog = X_opt).fit()\n",
    "regressor_OLS.summary()"
   ]
  },
  {
   "cell_type": "markdown",
   "metadata": {},
   "source": [
    "0 - Season\n",
    "1 - Year\n",
    "2 - Month\n",
    "4 - Hour\n",
    "5 - \n",
    "6 - \n",
    "9 - \n",
    "10 - Temp\n",
    "11 - Atemp\n",
    "12 - Humidity"
   ]
  },
  {
   "cell_type": "markdown",
   "metadata": {},
   "source": [
    "# Try combining independent datasets?"
   ]
  },
  {
   "cell_type": "code",
   "execution_count": null,
   "metadata": {},
   "outputs": [],
   "source": []
  }
 ],
 "metadata": {
  "kernelspec": {
   "display_name": "Python with Pixiedust (Spark 2.2)",
   "language": "python",
   "name": "pythonwithpixiedustspark22"
  },
  "language_info": {
   "codemirror_mode": {
    "name": "ipython",
    "version": 3
   },
   "file_extension": ".py",
   "mimetype": "text/x-python",
   "name": "python",
   "nbconvert_exporter": "python",
   "pygments_lexer": "ipython3",
   "version": "3.6.6"
  }
 },
 "nbformat": 4,
 "nbformat_minor": 2
}
