{
 "cells": [
  {
   "cell_type": "markdown",
   "metadata": {},
   "source": [
    "# Imports"
   ]
  },
  {
   "cell_type": "code",
   "execution_count": 39,
   "metadata": {},
   "outputs": [],
   "source": [
    "import numpy as np\n",
    "import pandas as pd\n",
    "import pixiedust"
   ]
  },
  {
   "cell_type": "markdown",
   "metadata": {},
   "source": [
    "# Data"
   ]
  },
  {
   "cell_type": "code",
   "execution_count": 40,
   "metadata": {},
   "outputs": [],
   "source": [
    "daily = pd.read_csv('Bike-Sharing/day.csv')\n",
    "hourly = pd.read_csv('Bike-Sharing/hour.csv')"
   ]
  },
  {
   "cell_type": "code",
   "execution_count": 41,
   "metadata": {},
   "outputs": [
    {
     "data": {
      "text/html": [
       "<div>\n",
       "<style scoped>\n",
       "    .dataframe tbody tr th:only-of-type {\n",
       "        vertical-align: middle;\n",
       "    }\n",
       "\n",
       "    .dataframe tbody tr th {\n",
       "        vertical-align: top;\n",
       "    }\n",
       "\n",
       "    .dataframe thead th {\n",
       "        text-align: right;\n",
       "    }\n",
       "</style>\n",
       "<table border=\"1\" class=\"dataframe\">\n",
       "  <thead>\n",
       "    <tr style=\"text-align: right;\">\n",
       "      <th></th>\n",
       "      <th>instant</th>\n",
       "      <th>dteday</th>\n",
       "      <th>season</th>\n",
       "      <th>yr</th>\n",
       "      <th>mnth</th>\n",
       "      <th>holiday</th>\n",
       "      <th>weekday</th>\n",
       "      <th>workingday</th>\n",
       "      <th>weathersit</th>\n",
       "      <th>temp</th>\n",
       "      <th>atemp</th>\n",
       "      <th>hum</th>\n",
       "      <th>windspeed</th>\n",
       "      <th>casual</th>\n",
       "      <th>registered</th>\n",
       "      <th>cnt</th>\n",
       "    </tr>\n",
       "  </thead>\n",
       "  <tbody>\n",
       "    <tr>\n",
       "      <th>0</th>\n",
       "      <td>1</td>\n",
       "      <td>2011-01-01</td>\n",
       "      <td>1</td>\n",
       "      <td>0</td>\n",
       "      <td>1</td>\n",
       "      <td>0</td>\n",
       "      <td>6</td>\n",
       "      <td>0</td>\n",
       "      <td>2</td>\n",
       "      <td>0.344167</td>\n",
       "      <td>0.363625</td>\n",
       "      <td>0.805833</td>\n",
       "      <td>0.160446</td>\n",
       "      <td>331</td>\n",
       "      <td>654</td>\n",
       "      <td>985</td>\n",
       "    </tr>\n",
       "    <tr>\n",
       "      <th>1</th>\n",
       "      <td>2</td>\n",
       "      <td>2011-01-02</td>\n",
       "      <td>1</td>\n",
       "      <td>0</td>\n",
       "      <td>1</td>\n",
       "      <td>0</td>\n",
       "      <td>0</td>\n",
       "      <td>0</td>\n",
       "      <td>2</td>\n",
       "      <td>0.363478</td>\n",
       "      <td>0.353739</td>\n",
       "      <td>0.696087</td>\n",
       "      <td>0.248539</td>\n",
       "      <td>131</td>\n",
       "      <td>670</td>\n",
       "      <td>801</td>\n",
       "    </tr>\n",
       "    <tr>\n",
       "      <th>2</th>\n",
       "      <td>3</td>\n",
       "      <td>2011-01-03</td>\n",
       "      <td>1</td>\n",
       "      <td>0</td>\n",
       "      <td>1</td>\n",
       "      <td>0</td>\n",
       "      <td>1</td>\n",
       "      <td>1</td>\n",
       "      <td>1</td>\n",
       "      <td>0.196364</td>\n",
       "      <td>0.189405</td>\n",
       "      <td>0.437273</td>\n",
       "      <td>0.248309</td>\n",
       "      <td>120</td>\n",
       "      <td>1229</td>\n",
       "      <td>1349</td>\n",
       "    </tr>\n",
       "    <tr>\n",
       "      <th>3</th>\n",
       "      <td>4</td>\n",
       "      <td>2011-01-04</td>\n",
       "      <td>1</td>\n",
       "      <td>0</td>\n",
       "      <td>1</td>\n",
       "      <td>0</td>\n",
       "      <td>2</td>\n",
       "      <td>1</td>\n",
       "      <td>1</td>\n",
       "      <td>0.200000</td>\n",
       "      <td>0.212122</td>\n",
       "      <td>0.590435</td>\n",
       "      <td>0.160296</td>\n",
       "      <td>108</td>\n",
       "      <td>1454</td>\n",
       "      <td>1562</td>\n",
       "    </tr>\n",
       "    <tr>\n",
       "      <th>4</th>\n",
       "      <td>5</td>\n",
       "      <td>2011-01-05</td>\n",
       "      <td>1</td>\n",
       "      <td>0</td>\n",
       "      <td>1</td>\n",
       "      <td>0</td>\n",
       "      <td>3</td>\n",
       "      <td>1</td>\n",
       "      <td>1</td>\n",
       "      <td>0.226957</td>\n",
       "      <td>0.229270</td>\n",
       "      <td>0.436957</td>\n",
       "      <td>0.186900</td>\n",
       "      <td>82</td>\n",
       "      <td>1518</td>\n",
       "      <td>1600</td>\n",
       "    </tr>\n",
       "  </tbody>\n",
       "</table>\n",
       "</div>"
      ],
      "text/plain": [
       "   instant      dteday  season  yr  mnth  holiday  weekday  workingday  \\\n",
       "0        1  2011-01-01       1   0     1        0        6           0   \n",
       "1        2  2011-01-02       1   0     1        0        0           0   \n",
       "2        3  2011-01-03       1   0     1        0        1           1   \n",
       "3        4  2011-01-04       1   0     1        0        2           1   \n",
       "4        5  2011-01-05       1   0     1        0        3           1   \n",
       "\n",
       "   weathersit      temp     atemp       hum  windspeed  casual  registered  \\\n",
       "0           2  0.344167  0.363625  0.805833   0.160446     331         654   \n",
       "1           2  0.363478  0.353739  0.696087   0.248539     131         670   \n",
       "2           1  0.196364  0.189405  0.437273   0.248309     120        1229   \n",
       "3           1  0.200000  0.212122  0.590435   0.160296     108        1454   \n",
       "4           1  0.226957  0.229270  0.436957   0.186900      82        1518   \n",
       "\n",
       "    cnt  \n",
       "0   985  \n",
       "1   801  \n",
       "2  1349  \n",
       "3  1562  \n",
       "4  1600  "
      ]
     },
     "execution_count": 41,
     "metadata": {},
     "output_type": "execute_result"
    }
   ],
   "source": [
    "daily.head()"
   ]
  },
  {
   "cell_type": "code",
   "execution_count": 42,
   "metadata": {},
   "outputs": [
    {
     "data": {
      "text/plain": [
       "Index(['instant', 'dteday', 'season', 'yr', 'mnth', 'holiday', 'weekday',\n",
       "       'workingday', 'weathersit', 'temp', 'atemp', 'hum', 'windspeed',\n",
       "       'casual', 'registered', 'cnt'],\n",
       "      dtype='object')"
      ]
     },
     "execution_count": 42,
     "metadata": {},
     "output_type": "execute_result"
    }
   ],
   "source": [
    "daily.columns"
   ]
  },
  {
   "cell_type": "code",
   "execution_count": 43,
   "metadata": {},
   "outputs": [
    {
     "name": "stdout",
     "output_type": "stream",
     "text": [
      "<class 'pandas.core.frame.DataFrame'>\n",
      "RangeIndex: 731 entries, 0 to 730\n",
      "Data columns (total 16 columns):\n",
      "instant       731 non-null int64\n",
      "dteday        731 non-null object\n",
      "season        731 non-null int64\n",
      "yr            731 non-null int64\n",
      "mnth          731 non-null int64\n",
      "holiday       731 non-null int64\n",
      "weekday       731 non-null int64\n",
      "workingday    731 non-null int64\n",
      "weathersit    731 non-null int64\n",
      "temp          731 non-null float64\n",
      "atemp         731 non-null float64\n",
      "hum           731 non-null float64\n",
      "windspeed     731 non-null float64\n",
      "casual        731 non-null int64\n",
      "registered    731 non-null int64\n",
      "cnt           731 non-null int64\n",
      "dtypes: float64(4), int64(11), object(1)\n",
      "memory usage: 91.5+ KB\n"
     ]
    }
   ],
   "source": [
    "daily.info()"
   ]
  },
  {
   "cell_type": "code",
   "execution_count": 44,
   "metadata": {},
   "outputs": [],
   "source": [
    "# There are no empty cells in 'daily'\n",
    "# daily.isna().sum()"
   ]
  },
  {
   "cell_type": "code",
   "execution_count": 49,
   "metadata": {
    "pixiedust": {
     "displayParams": {
      "handlerId": "scatterPlot",
      "keyFields": "temp",
      "valueFields": "cnt"
     }
    },
    "scrolled": false
   },
   "outputs": [
    {
     "data": {
      "text/html": [
       "<style type=\"text/css\">.pd_warning{display:none;}</style><div class=\"pd_warning\"><em>Hey, there's something awesome here! To see it, open this notebook outside GitHub, in a viewer like Jupyter</em></div>\n",
       "        <div class=\"pd_save is-viewer-good\" style=\"padding-right:10px;text-align: center;line-height:initial !important;font-size: xx-large;font-weight: 500;color: coral;\">\n",
       "            \n",
       "        </div>\n",
       "    <div id=\"chartFigure9ab33d19\" class=\"pd_save is-viewer-good\" style=\"overflow-x:auto\">\n",
       "            \n",
       "                    \n",
       "                            <center><img style=\"max-width:initial !important\" src=\"data:image/png;base64,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\" class=\"pd_save\"></center>\n",
       "                        \n",
       "                    \n",
       "                \n",
       "        </div>"
      ],
      "text/plain": [
       "<IPython.core.display.HTML object>"
      ]
     },
     "metadata": {},
     "output_type": "display_data"
    }
   ],
   "source": [
    "# When running on 'Python with Pixiedust' kernel, can open interactive:\n",
    "display(daily)\n",
    "# Definitely seems to be a positive correlation between temperature and rental count"
   ]
  },
  {
   "cell_type": "code",
   "execution_count": 45,
   "metadata": {},
   "outputs": [
    {
     "data": {
      "text/html": [
       "<div>\n",
       "<style scoped>\n",
       "    .dataframe tbody tr th:only-of-type {\n",
       "        vertical-align: middle;\n",
       "    }\n",
       "\n",
       "    .dataframe tbody tr th {\n",
       "        vertical-align: top;\n",
       "    }\n",
       "\n",
       "    .dataframe thead th {\n",
       "        text-align: right;\n",
       "    }\n",
       "</style>\n",
       "<table border=\"1\" class=\"dataframe\">\n",
       "  <thead>\n",
       "    <tr style=\"text-align: right;\">\n",
       "      <th></th>\n",
       "      <th>instant</th>\n",
       "      <th>dteday</th>\n",
       "      <th>season</th>\n",
       "      <th>yr</th>\n",
       "      <th>mnth</th>\n",
       "      <th>hr</th>\n",
       "      <th>holiday</th>\n",
       "      <th>weekday</th>\n",
       "      <th>workingday</th>\n",
       "      <th>weathersit</th>\n",
       "      <th>temp</th>\n",
       "      <th>atemp</th>\n",
       "      <th>hum</th>\n",
       "      <th>windspeed</th>\n",
       "      <th>casual</th>\n",
       "      <th>registered</th>\n",
       "      <th>cnt</th>\n",
       "    </tr>\n",
       "  </thead>\n",
       "  <tbody>\n",
       "    <tr>\n",
       "      <th>0</th>\n",
       "      <td>1</td>\n",
       "      <td>2011-01-01</td>\n",
       "      <td>1</td>\n",
       "      <td>0</td>\n",
       "      <td>1</td>\n",
       "      <td>0</td>\n",
       "      <td>0</td>\n",
       "      <td>6</td>\n",
       "      <td>0</td>\n",
       "      <td>1</td>\n",
       "      <td>0.24</td>\n",
       "      <td>0.2879</td>\n",
       "      <td>0.81</td>\n",
       "      <td>0.0</td>\n",
       "      <td>3</td>\n",
       "      <td>13</td>\n",
       "      <td>16</td>\n",
       "    </tr>\n",
       "    <tr>\n",
       "      <th>1</th>\n",
       "      <td>2</td>\n",
       "      <td>2011-01-01</td>\n",
       "      <td>1</td>\n",
       "      <td>0</td>\n",
       "      <td>1</td>\n",
       "      <td>1</td>\n",
       "      <td>0</td>\n",
       "      <td>6</td>\n",
       "      <td>0</td>\n",
       "      <td>1</td>\n",
       "      <td>0.22</td>\n",
       "      <td>0.2727</td>\n",
       "      <td>0.80</td>\n",
       "      <td>0.0</td>\n",
       "      <td>8</td>\n",
       "      <td>32</td>\n",
       "      <td>40</td>\n",
       "    </tr>\n",
       "    <tr>\n",
       "      <th>2</th>\n",
       "      <td>3</td>\n",
       "      <td>2011-01-01</td>\n",
       "      <td>1</td>\n",
       "      <td>0</td>\n",
       "      <td>1</td>\n",
       "      <td>2</td>\n",
       "      <td>0</td>\n",
       "      <td>6</td>\n",
       "      <td>0</td>\n",
       "      <td>1</td>\n",
       "      <td>0.22</td>\n",
       "      <td>0.2727</td>\n",
       "      <td>0.80</td>\n",
       "      <td>0.0</td>\n",
       "      <td>5</td>\n",
       "      <td>27</td>\n",
       "      <td>32</td>\n",
       "    </tr>\n",
       "    <tr>\n",
       "      <th>3</th>\n",
       "      <td>4</td>\n",
       "      <td>2011-01-01</td>\n",
       "      <td>1</td>\n",
       "      <td>0</td>\n",
       "      <td>1</td>\n",
       "      <td>3</td>\n",
       "      <td>0</td>\n",
       "      <td>6</td>\n",
       "      <td>0</td>\n",
       "      <td>1</td>\n",
       "      <td>0.24</td>\n",
       "      <td>0.2879</td>\n",
       "      <td>0.75</td>\n",
       "      <td>0.0</td>\n",
       "      <td>3</td>\n",
       "      <td>10</td>\n",
       "      <td>13</td>\n",
       "    </tr>\n",
       "    <tr>\n",
       "      <th>4</th>\n",
       "      <td>5</td>\n",
       "      <td>2011-01-01</td>\n",
       "      <td>1</td>\n",
       "      <td>0</td>\n",
       "      <td>1</td>\n",
       "      <td>4</td>\n",
       "      <td>0</td>\n",
       "      <td>6</td>\n",
       "      <td>0</td>\n",
       "      <td>1</td>\n",
       "      <td>0.24</td>\n",
       "      <td>0.2879</td>\n",
       "      <td>0.75</td>\n",
       "      <td>0.0</td>\n",
       "      <td>0</td>\n",
       "      <td>1</td>\n",
       "      <td>1</td>\n",
       "    </tr>\n",
       "  </tbody>\n",
       "</table>\n",
       "</div>"
      ],
      "text/plain": [
       "   instant      dteday  season  yr  mnth  hr  holiday  weekday  workingday  \\\n",
       "0        1  2011-01-01       1   0     1   0        0        6           0   \n",
       "1        2  2011-01-01       1   0     1   1        0        6           0   \n",
       "2        3  2011-01-01       1   0     1   2        0        6           0   \n",
       "3        4  2011-01-01       1   0     1   3        0        6           0   \n",
       "4        5  2011-01-01       1   0     1   4        0        6           0   \n",
       "\n",
       "   weathersit  temp   atemp   hum  windspeed  casual  registered  cnt  \n",
       "0           1  0.24  0.2879  0.81        0.0       3          13   16  \n",
       "1           1  0.22  0.2727  0.80        0.0       8          32   40  \n",
       "2           1  0.22  0.2727  0.80        0.0       5          27   32  \n",
       "3           1  0.24  0.2879  0.75        0.0       3          10   13  \n",
       "4           1  0.24  0.2879  0.75        0.0       0           1    1  "
      ]
     },
     "execution_count": 45,
     "metadata": {},
     "output_type": "execute_result"
    }
   ],
   "source": [
    "hourly.head()\n",
    "# Note that 'dteday' is formatted as yyyy-mm-dd and 'temp' is a float\n",
    "# Readme.txt defines 'temp' as normalized temperatures in Celsius (divided by the max of 41)\n",
    "# and 'atemp' as normalized temperature feeling (divided by the max of 50).\n",
    "# Also defines 'windspeed' as normalized wind speed (divided by the max of 67)."
   ]
  },
  {
   "cell_type": "code",
   "execution_count": 46,
   "metadata": {},
   "outputs": [
    {
     "data": {
      "text/plain": [
       "Index(['instant', 'dteday', 'season', 'yr', 'mnth', 'hr', 'holiday', 'weekday',\n",
       "       'workingday', 'weathersit', 'temp', 'atemp', 'hum', 'windspeed',\n",
       "       'casual', 'registered', 'cnt'],\n",
       "      dtype='object')"
      ]
     },
     "execution_count": 46,
     "metadata": {},
     "output_type": "execute_result"
    }
   ],
   "source": [
    "hourly.columns"
   ]
  },
  {
   "cell_type": "code",
   "execution_count": 47,
   "metadata": {},
   "outputs": [
    {
     "name": "stdout",
     "output_type": "stream",
     "text": [
      "<class 'pandas.core.frame.DataFrame'>\n",
      "RangeIndex: 17379 entries, 0 to 17378\n",
      "Data columns (total 17 columns):\n",
      "instant       17379 non-null int64\n",
      "dteday        17379 non-null object\n",
      "season        17379 non-null int64\n",
      "yr            17379 non-null int64\n",
      "mnth          17379 non-null int64\n",
      "hr            17379 non-null int64\n",
      "holiday       17379 non-null int64\n",
      "weekday       17379 non-null int64\n",
      "workingday    17379 non-null int64\n",
      "weathersit    17379 non-null int64\n",
      "temp          17379 non-null float64\n",
      "atemp         17379 non-null float64\n",
      "hum           17379 non-null float64\n",
      "windspeed     17379 non-null float64\n",
      "casual        17379 non-null int64\n",
      "registered    17379 non-null int64\n",
      "cnt           17379 non-null int64\n",
      "dtypes: float64(4), int64(12), object(1)\n",
      "memory usage: 2.3+ MB\n"
     ]
    }
   ],
   "source": [
    "hourly.info()\n",
    "# This dataset has additional 'hr' column, but all others match the daily dataset"
   ]
  },
  {
   "cell_type": "code",
   "execution_count": 48,
   "metadata": {},
   "outputs": [],
   "source": [
    "# There are no empty cells in 'hourly'\n",
    "# hourly.isna().sum()"
   ]
  },
  {
   "cell_type": "code",
   "execution_count": 51,
   "metadata": {
    "pixiedust": {
     "displayParams": {
      "handlerId": "scatterPlot",
      "keyFields": "hr",
      "valueFields": "cnt"
     }
    },
    "slideshow": {
     "slide_type": "slide"
    }
   },
   "outputs": [
    {
     "data": {
      "text/html": [
       "<style type=\"text/css\">.pd_warning{display:none;}</style><div class=\"pd_warning\"><em>Hey, there's something awesome here! To see it, open this notebook outside GitHub, in a viewer like Jupyter</em></div>\n",
       "        <div class=\"pd_save is-viewer-good\" style=\"padding-right:10px;text-align: center;line-height:initial !important;font-size: xx-large;font-weight: 500;color: coral;\">\n",
       "            \n",
       "        </div>\n",
       "    <div id=\"chartFigure0d41fb4a\" class=\"pd_save is-viewer-good\" style=\"overflow-x:auto\">\n",
       "            \n",
       "                    \n",
       "                            <center><img style=\"max-width:initial !important\" src=\"data:image/png;base64,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\" class=\"pd_save\"></center>\n",
       "                        \n",
       "                    \n",
       "                \n",
       "        </div>"
      ],
      "text/plain": [
       "<IPython.core.display.HTML object>"
      ]
     },
     "metadata": {},
     "output_type": "display_data"
    }
   ],
   "source": [
    "# When running on 'Python with Pixiedust' kernel:\n",
    "display(hourly)"
   ]
  },
  {
   "cell_type": "code",
   "execution_count": null,
   "metadata": {},
   "outputs": [],
   "source": []
  }
 ],
 "metadata": {
  "kernelspec": {
   "display_name": "Python with Pixiedust (Spark 2.2)",
   "language": "python",
   "name": "pythonwithpixiedustspark22"
  },
  "language_info": {
   "codemirror_mode": {
    "name": "ipython",
    "version": 3
   },
   "file_extension": ".py",
   "mimetype": "text/x-python",
   "name": "python",
   "nbconvert_exporter": "python",
   "pygments_lexer": "ipython3",
   "version": "3.6.6"
  }
 },
 "nbformat": 4,
 "nbformat_minor": 2
}
